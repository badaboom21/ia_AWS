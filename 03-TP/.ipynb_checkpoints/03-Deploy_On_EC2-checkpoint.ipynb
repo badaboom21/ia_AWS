{
 "cells": [
  {
   "cell_type": "markdown",
   "id": "7a6b6cbc-1ce3-4e57-9590-37dd6cd59d3b",
   "metadata": {},
   "source": [
    "![ai](https://www.emineo-education.fr/wp-content/uploads/2022/11/supdevinci-nantes.png)\n",
    "\n",
    "\n",
    "<h4 style=\"text-align: left; color:#20a08d; font-size: 35px\"><span><strong> Déployez votre application Streamlit sur EC2</strong></span></h4>"
   ]
  },
  {
   "cell_type": "markdown",
   "id": "12bc527e-e753-49da-a3b1-4c800157b6cf",
   "metadata": {},
   "source": [
    "![](https://miro.medium.com/v2/resize:fit:740/1*rwAyCH8oA4BmpJojOu8nXA.png)\n",
    "\n",
    "Dans ce TP, vous apprendrez à déployer une application **Streamlit** sur une instance **Amazon EC2**. L’objectif est de transformer une application locale en un service accessible en ligne, tout en découvrant les bases des services Cloud d’AWS. Vous configurerez une instance EC2, installerez les dépendances nécessaires et hébergerez votre application avec une configuration sécurisée. Ce TP vous guidera pas à pas, de la création de l'instance à la mise en ligne de l'application, afin de vous initier aux fondamentaux du déploiement d'applications sur le Cloud. Préparez-vous à rendre votre projet accessible à tous ! 🚀\n",
    "\n",
    "---"
   ]
  },
  {
   "cell_type": "markdown",
   "id": "884b5632-5295-40a9-9b08-438703718c8c",
   "metadata": {},
   "source": [
    "<h4 style=\"text-align: left; color:#20a08d; font-size: 25px\"><span><strong>1. Création de l'instance EC2</strong></span></h4>\n",
    "\n",
    "<p style=\"text-align: left; font-size: 16px; color:#131fcf\"><span>🖥️ <strong>Étape 1 : Créez une instance EC2</strong></span></p>\n",
    "<p style=\"text-align: left; font-size: 16px; color:#131fcf\"><span>Rendez-vous sur la console AWS (<a href=\"https://aws.amazon.com\">aws.amazon.com</a>), sélectionnez <strong>EC2</strong> dans les services et cliquez sur <strong>Lancer une instance</strong>. Choisissez une image Amazon Linux 2 (gratuite pour les débutants).</span></p>\n",
    "\n",
    "<p style=\"text-align: left; font-size: 16px; color:#131fcf\"><span>🖥️ <strong>Étape 2 : Configurez les détails de l'instance</strong></span></p>\n",
    "<p style=\"text-align: left; font-size: 16px; color:#131fcf\"><span>Sélectionnez un type d'instance <strong>t3.medium</strong> (2 vCPU, 4 Go de RAM) pour de meilleures performances. Continuez avec les paramètres par défaut et téléchargez la clé PEM lors de la création de l'instance.</span></p>\n",
    "\n",
    "![](https://miro.medium.com/v2/resize:fit:828/format:webp/0*3EY7ZVRApzYVaZ4n.png)\n",
    "\n",
    "---\n"
   ]
  },
  {
   "cell_type": "markdown",
   "id": "7af5d849-70c2-4b2d-8a6e-9bf590db7c51",
   "metadata": {},
   "source": [
    "<h4 style=\"text-align: left; color:#20a08d; font-size: 25px\"><span><strong>2. Connexion à l'instance EC2</strong></span></h4>\n",
    "\n",
    "<p style=\"text-align: left; font-size: 16px; color:#131fcf\"><span>🖥️ <strong>Étape 4 : Connectez-vous en SSH</strong></span></p>\n",
    "<p style=\"text-align: left; font-size: 16px; color:#131fcf\"><span>Depuis votre terminal, connectez-vous à votre instance avec la commande suivante :</span></p>\n",
    "\n",
    "```bash\n",
    "ssh -i chemin/vers/votre-clé.pem ec2-user@<votre-ip-publique>\n",
    "```\n",
    "\n",
    "<p style=\"text-align: left; font-size: 16px; color:#131fcf\"><span>Remplacez <strong>chemin/vers/votre-clé.pem</strong> par le chemin complet vers votre fichier PEM et <strong>votre-ip-publique</strong> par l’adresse IP de votre instance EC2.</span></p>\n",
    "\n",
    "![](https://d2908q01vomqb2.cloudfront.net/1b6453892473a467d07372d45eb05abc2031647a/2019/06/25/Picture1-2.png)\n",
    "\n",
    "---\n",
    "\n"
   ]
  },
  {
   "cell_type": "markdown",
   "id": "0e41bb7e-e1f4-43d6-8bb3-c5a8cc0ee403",
   "metadata": {},
   "source": [
    "<h4 style=\"text-align: left; color:#20a08d; font-size: 25px\"><span><strong>3. Installation des dépendances système</strong></span></h4>\n",
    "\n",
    "<p style=\"text-align: left; font-size: 16px; color:#131fcf\"><span>🖥️ <strong>Étape 5 : Installez Python et les bibliothèques nécessaires</strong></span></p>\n",
    "<p style=\"text-align: left; font-size: 16px; color:#131fcf\"><span>Exécutez les commandes suivantes sur votre instance pour installer Python, Git et OpenCV :</span></p>\n",
    "\n",
    "```bash\n",
    "sudo yum install python3-pip -y\n",
    "sudo yum install mesa-libGL -y\n",
    "sudo yum install git -y\n",
    "\n",
    "```\n",
    "\n",
    "<p style=\"text-align: left; font-size: 16px; color:#131fcf\"><span>Cette étape configure votre instance pour exécuter l'application Streamlit.</span></p>\n",
    "\n",
    "---\n",
    "\n"
   ]
  },
  {
   "cell_type": "markdown",
   "id": "423e9b48-1ec8-412b-9a0a-ddf96fb6a7d6",
   "metadata": {},
   "source": [
    "<h4 style=\"text-align: left; color:#20a08d; font-size: 25px\"><span><strong>4. Cloner le dépôt de l'application</strong></span></h4>\n",
    "\n",
    "<p style=\"text-align: left; font-size: 16px; color:#131fcf\"><span>🖥️ <strong>Étape 6 : Clonez le code source</strong></span></p>\n",
    "<p style=\"text-align: left; font-size: 16px; color:#131fcf\"><span>Clonez votre projet GitHub sur l'instance :</span></p>\n",
    "\n",
    "```bash\n",
    "git clone https://github.com/votre-depot/SupDeVinci_ModerationApp.git\n",
    "cd SupDeVinci_ModerationApp\n",
    "```\n",
    "\n",
    "<p style=\"text-align: left; font-size: 16px; color:#131fcf\"><span>Assurez-vous que le dépôt contient bien tous les fichiers nécessaires à l'exécution de l'application.</span></p>\n",
    "\n",
    "<div class=\"alert alert-warning\">\n",
    "    <strong>ATTENTION ⚠️⚠️⚠️</strong><br/><br/> Remplacez <i>votre-depot</i> par votre nom d'utilisateur, et <i>SupDeVinci_ModerationApp</i> par le nom de votre repo Github.\n",
    "</div>\n",
    "\n",
    "---\n",
    "\n"
   ]
  },
  {
   "cell_type": "markdown",
   "id": "45bc5dc2-2f3b-4c43-a92e-4caab46037ff",
   "metadata": {},
   "source": [
    "<h4 style=\"text-align: left; color:#20a08d; font-size: 25px\"><span><strong>5. Configurer les clés AWS</strong></span></h4>\n",
    "\n",
    "<p style=\"text-align: left; font-size: 16px; color:#131fcf\"><span>🖥️ <strong>Étape 7 : Ajoutez vos clés dans un fichier <code>.env</code></strong></span></p>\n",
    "<p style=\"text-align: left; font-size: 16px; color:#131fcf\"><span>Ajoutez vos clés d'accès AWS au fichier `.env` :</span></p>\n",
    "\n",
    "```bash\n",
    "echo \"ACCESS_KEY=XXXXXXXXXXXX\" >> .env\n",
    "echo \"SECRET_KEY=XXXXXXXXXXXX\" >> .env\n",
    "```\n",
    "\n",
    "<div class=\"alert alert-warning\">\n",
    "    <strong>ATTENTION ⚠️⚠️⚠️</strong><br/><br/> Remplacez <i>XXXXXXXXXXXXX</i> par vos <i>credentials</i> AWS.\n",
    "</div>\n",
    "\n",
    "<p style=\"text-align: left; font-size: 16px; color:#131fcf\"><span>Ces clés permettront à votre application d'accéder aux services AWS nécessaires (Rekognition, S3, etc.).</span></p>\n",
    "\n",
    "---\n",
    "\n"
   ]
  },
  {
   "cell_type": "markdown",
   "id": "9d463436-59f2-4c9a-8a37-0f9d1c5fa100",
   "metadata": {},
   "source": [
    "<h4 style=\"text-align: left; color:#20a08d; font-size: 25px\"><span><strong>6. Installer les dépendances de l'application</strong></span></h4>\n",
    "\n",
    "<p style=\"text-align: left; font-size: 16px; color:#131fcf\"><span>🖥️ <strong>Étape 8 : Installez les bibliothèques Python</strong></span></p>\n",
    "<p style=\"text-align: left; font-size: 16px; color:#131fcf\"><span>Installez les dépendances nécessaires avec pip :</span></p>\n",
    "\n",
    "```bash\n",
    "pip install -r SupDeVinci_ModerationApp/requirements.txt\n",
    "```\n",
    "\n",
    "<p style=\"text-align: left; font-size: 16px; color:#131fcf\"><span>Cette étape garantit que toutes les bibliothèques nécessaires à l'application sont disponibles.</span></p>\n",
    "\n",
    "---\n",
    "\n"
   ]
  },
  {
   "cell_type": "markdown",
   "id": "5684e568-d7cb-41ff-b244-2122b3c04a6f",
   "metadata": {},
   "source": [
    "<h4 style=\"text-align: left; color:#20a08d; font-size: 25px\"><span><strong>7. Lancer l'application Streamlit</strong></span></h4>\n",
    "\n",
    "<p style=\"text-align: left; font-size: 16px; color:#131fcf\"><span>🖥️ <strong>Étape 10 : Lancez votre application</strong></span></p>\n",
    "<p style=\"text-align: left; font-size: 16px; color:#131fcf\"><span>Exécutez Streamlit avec la commande suivante :</span></p>\n",
    "\n",
    "```bash\n",
    "streamlit run SupDeVinci_ModerationApp/app.py --server.port 8501 --server.enableCORS false --server.headless true\n",
    "```\n",
    "\n",
    "<p style=\"text-align: left; font-size: 16px; color:#131fcf\"><span>Votre application sera maintenant accessible via l'URL :</span></p>\n",
    "\n",
    "```plaintext\n",
    "http://<votre-ip-publique>:8501\n",
    "```"
   ]
  },
  {
   "cell_type": "markdown",
   "id": "aa69ada7-0b5a-4fa6-9056-062cd9b8f12c",
   "metadata": {},
   "source": [
    "<center><img src=\"https://images.emojiterra.com/google/noto-emoji/animated-emoji/1f914.gif\" alt=\"GIF\" width=\"200\" height=\"200\"></center>\n"
   ]
  },
  {
   "cell_type": "markdown",
   "id": "c1efe6d1-7658-4756-a726-035f316422f4",
   "metadata": {},
   "source": [
    "<div class=\"alert alert-danger\">\n",
    "    <strong>TROUVEZ L'ERREUR 🚨🚨🚨</strong><br/><br/> A cette étape, votre application n'est pas accessible, et c'est tout à fait normal ! Trouvez le réglage manquant pour la rendre accessible.\n",
    "</div>"
   ]
  },
  {
   "cell_type": "code",
   "execution_count": null,
   "id": "54c4acf7-2c25-41ef-bd8e-8cd20e63367e",
   "metadata": {},
   "outputs": [],
   "source": []
  }
 ],
 "metadata": {
  "kernelspec": {
   "display_name": "Python 3 (ipykernel)",
   "language": "python",
   "name": "python3"
  },
  "language_info": {
   "codemirror_mode": {
    "name": "ipython",
    "version": 3
   },
   "file_extension": ".py",
   "mimetype": "text/x-python",
   "name": "python",
   "nbconvert_exporter": "python",
   "pygments_lexer": "ipython3",
   "version": "3.9.13"
  }
 },
 "nbformat": 4,
 "nbformat_minor": 5
}
